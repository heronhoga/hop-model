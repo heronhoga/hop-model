{
 "cells": [
  {
   "cell_type": "markdown",
   "id": "ecb71ddf",
   "metadata": {},
   "source": [
    "import libraries"
   ]
  },
  {
   "cell_type": "code",
   "execution_count": 2,
   "id": "acb6f4e5",
   "metadata": {},
   "outputs": [],
   "source": [
    "import pandas as pd"
   ]
  },
  {
   "cell_type": "markdown",
   "id": "2c42b428",
   "metadata": {},
   "source": [
    "check dataset"
   ]
  },
  {
   "cell_type": "code",
   "execution_count": 3,
   "id": "4c0c8f50",
   "metadata": {},
   "outputs": [
    {
     "data": {
      "text/html": [
       "<div>\n",
       "<style scoped>\n",
       "    .dataframe tbody tr th:only-of-type {\n",
       "        vertical-align: middle;\n",
       "    }\n",
       "\n",
       "    .dataframe tbody tr th {\n",
       "        vertical-align: top;\n",
       "    }\n",
       "\n",
       "    .dataframe thead th {\n",
       "        text-align: right;\n",
       "    }\n",
       "</style>\n",
       "<table border=\"1\" class=\"dataframe\">\n",
       "  <thead>\n",
       "    <tr style=\"text-align: right;\">\n",
       "      <th></th>\n",
       "      <th>amount</th>\n",
       "      <th>transaction_type</th>\n",
       "      <th>merchant_category</th>\n",
       "      <th>location</th>\n",
       "      <th>device_used</th>\n",
       "      <th>is_fraud</th>\n",
       "      <th>time_since_last_transaction</th>\n",
       "      <th>velocity_score</th>\n",
       "      <th>geo_anomaly_score</th>\n",
       "      <th>keyword_match</th>\n",
       "    </tr>\n",
       "  </thead>\n",
       "  <tbody>\n",
       "    <tr>\n",
       "      <th>0</th>\n",
       "      <td>359359</td>\n",
       "      <td>transfer</td>\n",
       "      <td>others</td>\n",
       "      <td>Surabaya</td>\n",
       "      <td>iOS</td>\n",
       "      <td>0</td>\n",
       "      <td>419</td>\n",
       "      <td>0.84</td>\n",
       "      <td>0.59</td>\n",
       "      <td>0</td>\n",
       "    </tr>\n",
       "    <tr>\n",
       "      <th>1</th>\n",
       "      <td>40660</td>\n",
       "      <td>purchase</td>\n",
       "      <td>others</td>\n",
       "      <td>Medan</td>\n",
       "      <td>Android</td>\n",
       "      <td>0</td>\n",
       "      <td>233</td>\n",
       "      <td>0.87</td>\n",
       "      <td>0.53</td>\n",
       "      <td>0</td>\n",
       "    </tr>\n",
       "    <tr>\n",
       "      <th>2</th>\n",
       "      <td>204148</td>\n",
       "      <td>purchase</td>\n",
       "      <td>entertainment</td>\n",
       "      <td>Jakarta</td>\n",
       "      <td>Android</td>\n",
       "      <td>1</td>\n",
       "      <td>599</td>\n",
       "      <td>0.43</td>\n",
       "      <td>0.47</td>\n",
       "      <td>1</td>\n",
       "    </tr>\n",
       "    <tr>\n",
       "      <th>3</th>\n",
       "      <td>136986</td>\n",
       "      <td>purchase</td>\n",
       "      <td>entertainment</td>\n",
       "      <td>Medan</td>\n",
       "      <td>Windows</td>\n",
       "      <td>1</td>\n",
       "      <td>224</td>\n",
       "      <td>0.79</td>\n",
       "      <td>0.58</td>\n",
       "      <td>1</td>\n",
       "    </tr>\n",
       "    <tr>\n",
       "      <th>4</th>\n",
       "      <td>21520</td>\n",
       "      <td>purchase</td>\n",
       "      <td>entertainment</td>\n",
       "      <td>Jakarta</td>\n",
       "      <td>Android</td>\n",
       "      <td>1</td>\n",
       "      <td>61</td>\n",
       "      <td>0.98</td>\n",
       "      <td>0.91</td>\n",
       "      <td>1</td>\n",
       "    </tr>\n",
       "  </tbody>\n",
       "</table>\n",
       "</div>"
      ],
      "text/plain": [
       "   amount transaction_type merchant_category  location device_used  is_fraud  \\\n",
       "0  359359         transfer            others  Surabaya         iOS         0   \n",
       "1   40660         purchase            others     Medan     Android         0   \n",
       "2  204148         purchase     entertainment   Jakarta     Android         1   \n",
       "3  136986         purchase     entertainment     Medan     Windows         1   \n",
       "4   21520         purchase     entertainment   Jakarta     Android         1   \n",
       "\n",
       "   time_since_last_transaction  velocity_score  geo_anomaly_score  \\\n",
       "0                          419            0.84               0.59   \n",
       "1                          233            0.87               0.53   \n",
       "2                          599            0.43               0.47   \n",
       "3                          224            0.79               0.58   \n",
       "4                           61            0.98               0.91   \n",
       "\n",
       "   keyword_match  \n",
       "0              0  \n",
       "1              0  \n",
       "2              1  \n",
       "3              1  \n",
       "4              1  "
      ]
     },
     "execution_count": 3,
     "metadata": {},
     "output_type": "execute_result"
    }
   ],
   "source": [
    "df = pd.read_csv('simulated_judi_dataset.csv')\n",
    "df.head()"
   ]
  }
 ],
 "metadata": {
  "kernelspec": {
   "display_name": "Python 3",
   "language": "python",
   "name": "python3"
  },
  "language_info": {
   "codemirror_mode": {
    "name": "ipython",
    "version": 3
   },
   "file_extension": ".py",
   "mimetype": "text/x-python",
   "name": "python",
   "nbconvert_exporter": "python",
   "pygments_lexer": "ipython3",
   "version": "3.11.9"
  }
 },
 "nbformat": 4,
 "nbformat_minor": 5
}
